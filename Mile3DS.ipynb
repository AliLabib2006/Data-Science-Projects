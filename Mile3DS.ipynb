{
 "cells": [
  {
   "metadata": {},
   "cell_type": "markdown",
   "source": "    Team 8 : Adham Ahmed 13004821 , Aly Labib 13005792 , Omar Ayman 13002702",
   "id": "c40ee88c38070a3f"
  },
  {
   "metadata": {},
   "cell_type": "markdown",
   "source": "# Importing Libraries",
   "id": "e669c45fd9b1a7f0"
  },
  {
   "metadata": {
    "ExecuteTime": {
     "end_time": "2025-05-25T11:05:28.845615Z",
     "start_time": "2025-05-25T11:05:26.885162Z"
    }
   },
   "cell_type": "code",
   "source": [
    "import pandas as pd\n",
    "\n",
    "import matplotlib.pyplot as plt\n",
    "\n",
    "\n",
    "from sklearn.preprocessing import StandardScaler\n",
    "from sklearn.decomposition import PCA\n",
    "from sklearn.cluster import KMeans, AgglomerativeClustering, Birch\n",
    "from sklearn.mixture import GaussianMixture\n",
    "from sklearn.metrics import silhouette_score, davies_bouldin_score"
   ],
   "id": "fdbfb5506b4538e0",
   "execution_count": 1,
   "outputs": []
  },
  {
   "metadata": {},
   "cell_type": "markdown",
   "source": "# Load Dataset",
   "id": "72d5a33118b82b6b"
  },
  {
   "metadata": {
    "ExecuteTime": {
     "end_time": "2025-05-25T11:05:35.983248Z",
     "start_time": "2025-05-25T11:05:35.974829Z"
    }
   },
   "cell_type": "code",
   "source": "df = pd.read_csv(\"C:\\\\Users\\\\omarg\\\\Desktop\\\\DATA\\\\Mall_Customers.csv\")",
   "id": "1d9dc71a6d9107a5",
   "execution_count": 2,
   "outputs": []
  },
  {
   "metadata": {},
   "cell_type": "markdown",
   "source": "# Load Important Data Features(head,info, null values , description of the dataset)",
   "id": "86929727b6739159"
  },
  {
   "metadata": {
    "ExecuteTime": {
     "end_time": "2025-05-25T11:05:39.433115Z",
     "start_time": "2025-05-25T11:05:39.404067Z"
    }
   },
   "cell_type": "code",
   "source": [
    "# Display first few rows\n",
    "df.head()\n",
    "\n",
    "# Basic info about the dataset\n",
    "df.info()\n",
    "\n",
    "# Check for missing values\n",
    "df.isnull().sum()\n",
    "\n",
    "# Summary statistics\n",
    "df.describe()"
   ],
   "id": "fd248223f586f3fc",
   "execution_count": 3,
   "outputs": []
  },
  {
   "metadata": {},
   "cell_type": "markdown",
   "source": "# Selecting features for clustering",
   "id": "a3b6eccd6641cc3b"
  },
  {
   "metadata": {
    "ExecuteTime": {
     "end_time": "2025-05-25T11:05:42.649289Z",
     "start_time": "2025-05-25T11:05:42.642331Z"
    }
   },
   "cell_type": "code",
   "source": "features = df[['Age', 'Annual Income (k$)', 'Spending Score (1-100)']]",
   "id": "be67472acf148f2b",
   "execution_count": 4,
   "outputs": []
  },
  {
   "metadata": {},
   "cell_type": "markdown",
   "source": "# Standardizing the features",
   "id": "b072c5f18b67e871"
  },
  {
   "metadata": {
    "ExecuteTime": {
     "end_time": "2025-05-25T11:05:43.854290Z",
     "start_time": "2025-05-25T11:05:43.845374Z"
    }
   },
   "cell_type": "code",
   "source": [
    "scaler = StandardScaler()\n",
    "scaled_features = scaler.fit_transform(features)"
   ],
   "id": "1d53c9b9602877a4",
   "execution_count": 5,
   "outputs": []
  },
  {
   "metadata": {},
   "cell_type": "markdown",
   "source": "# Convert to DataFrame for better readability",
   "id": "fb4e764a701f3a3c"
  },
  {
   "metadata": {
    "ExecuteTime": {
     "end_time": "2025-05-25T11:05:45.377131Z",
     "start_time": "2025-05-25T11:05:45.368171Z"
    }
   },
   "cell_type": "code",
   "source": [
    "scaled_df = pd.DataFrame(scaled_features, columns=features.columns)\n",
    "scaled_df.head()"
   ],
   "id": "19e7eb4242e4bbed",
   "execution_count": 6,
   "outputs": []
  },
  {
   "metadata": {},
   "cell_type": "markdown",
   "source": "# Apply PCA to reduce dimensions to 2D",
   "id": "331b41d5a422bf91"
  },
  {
   "metadata": {
    "ExecuteTime": {
     "end_time": "2025-05-25T11:05:50.183684Z",
     "start_time": "2025-05-25T11:05:47.979559Z"
    }
   },
   "cell_type": "code",
   "source": [
    "pca = PCA(n_components=2)\n",
    "pca_data = pca.fit_transform(scaled_df)\n",
    "\n",
    "# Convert to DataFrame\n",
    "pca_df = pd.DataFrame(pca_data, columns=['PCA1', 'PCA2'])\n",
    "\n",
    "# Visualize the data in 2D space\n",
    "plt.figure(figsize=(8, 6))\n",
    "plt.scatter(pca_df['PCA1'], pca_df['PCA2'])\n",
    "plt.title(\"PCA - 2D Visualization of Customers\")\n",
    "plt.xlabel(\"PCA1\")\n",
    "plt.ylabel(\"PCA2\")\n",
    "plt.show()\n",
    "inertia = []\n",
    "k_range = range(1, 11)\n",
    "\n",
    "for k in k_range:\n",
    "    km = KMeans(n_clusters=k, random_state=0)\n",
    "    km.fit(scaled_df)\n",
    "    inertia.append(km.inertia_)"
   ],
   "id": "cf694edc418cd7fb",
   "execution_count": 7,
   "outputs": []
  },
  {
   "metadata": {},
   "cell_type": "markdown",
   "source": "# Plot the elbow curve",
   "id": "f8839de8e735dab6"
  },
  {
   "metadata": {
    "ExecuteTime": {
     "end_time": "2025-05-25T11:05:50.932326Z",
     "start_time": "2025-05-25T11:05:50.729879Z"
    }
   },
   "cell_type": "code",
   "source": [
    "inertia = []\n",
    "k_range = range(1, 11)\n",
    "\n",
    "for k in k_range:\n",
    "    km = KMeans(n_clusters=k, random_state=0)\n",
    "    km.fit(scaled_df)\n",
    "    inertia.append(km.inertia_)\n",
    "plt.figure(figsize=(8, 5))\n",
    "plt.plot(k_range, inertia, marker='o')\n",
    "plt.title(\"Elbow Method\")\n",
    "plt.xlabel(\"Number of Clusters (k)\")\n",
    "plt.ylabel(\"Inertia\")\n",
    "plt.xticks(k_range)\n",
    "plt.grid(True)\n",
    "plt.show()\n",
    "# From the elbow method, let's say k = 5\n",
    "kmeans = KMeans(n_clusters=5, random_state=0)\n",
    "kmeans_labels = kmeans.fit_predict(scaled_df)"
   ],
   "id": "2db2b1be6cf1bd1e",
   "execution_count": 8,
   "outputs": []
  },
  {
   "metadata": {},
   "cell_type": "markdown",
   "source": "# Visualize the clusters",
   "id": "3d2924adf5423423"
  },
  {
   "metadata": {
    "ExecuteTime": {
     "end_time": "2025-05-25T11:05:53.804190Z",
     "start_time": "2025-05-25T11:05:53.410404Z"
    }
   },
   "cell_type": "code",
   "source": [
    "plt.scatter(pca_df['PCA1'], pca_df['PCA2'], c=kmeans_labels, cmap='rainbow')\n",
    "plt.title(\"K-Means Clustering\")\n",
    "plt.show()\n",
    "\n",
    "agg = AgglomerativeClustering(n_clusters=5)\n",
    "agg_labels = agg.fit_predict(scaled_df)\n",
    "\n",
    "plt.scatter(pca_df['PCA1'], pca_df['PCA2'], c=agg_labels, cmap='rainbow')\n",
    "plt.title(\"Agglomerative Clustering\")\n",
    "plt.show()\n",
    "\n",
    "gmm = GaussianMixture(n_components=5, random_state=0)\n",
    "gmm_labels = gmm.fit_predict(scaled_df)\n",
    "\n",
    "plt.scatter(pca_df['PCA1'], pca_df['PCA2'], c=gmm_labels, cmap='rainbow')\n",
    "plt.title(\"Gaussian Mixture Model Clustering\")\n",
    "plt.show()\n",
    "\n",
    "birch = Birch(n_clusters=5)\n",
    "birch_labels = birch.fit_predict(scaled_df)\n",
    "\n",
    "plt.scatter(pca_df['PCA1'], pca_df['PCA2'], c=birch_labels, cmap='rainbow')\n",
    "plt.title(\"BIRCH Clustering\")\n",
    "plt.show()"
   ],
   "id": "4e32fbab89f0675f",
   "execution_count": 9,
   "outputs": []
  },
  {
   "metadata": {},
   "cell_type": "markdown",
   "source": "*How each Algorithm Clusters it's data:*",
   "id": "1aef96595ae6c1ff"
  },
  {
   "metadata": {},
   "cell_type": "markdown",
   "source": [
    "\n",
    "    K-means:\n",
    "    K-Means forms clusters by first choosing the number of clusters (k) and randomly placing k points called centroids. Each data point is assigned to the nearest centroid based on distance. Then, the centroids are moved to the center (mean) of the points in their cluster. This process repeats until the centroids no longer change significantly. In the end, each point belongs to exactly one cluster. K-Means works best for data that forms compact, circular-shaped groups.\n",
    "    Agglomerative Clustering:\n",
    "        Agglomerative clustering is a type of hierarchical clustering. It starts by treating each data point as its own cluster. Then, it repeatedly finds and merges the two closest clusters based on distance until only the desired number of clusters remains. This process creates a tree-like structure (dendrogram) that shows how clusters were merged. It doesn't assume the shape of the clusters and works well for various cluster sizes and forms.\n",
    "    Gaussian Mixture Model (GMM):\n",
    "        GMM assumes that the data comes from a mixture of multiple Gaussian (bell curve) distributions. Each cluster is modeled as a probability distribution with its own mean and shape. Instead of assigning points to a single cluster, GMM gives each point a probability of belonging to each cluster. It uses a method called Expectation-Maximization (EM) to improve the accuracy step by step. This is useful for data where clusters may overlap.\n",
    "    BIRCH Clustering :\n",
    "        BIRCH is designed for very large datasets. It builds a tree-like structure called a CF Tree that groups data into small, compact clusters as it scans the dataset. Once the tree is built, it can optionally use another algorithm like K-Means to refine the final clusters. BIRCH is very fast and memory-efficient, but it may not work as well when clusters have complex shapes or are very close together."
   ],
   "id": "be0428a5a953729b"
  },
  {
   "metadata": {},
   "cell_type": "markdown",
   "source": "# Evaluation Function",
   "id": "909d9c603cf47159"
  },
  {
   "metadata": {
    "ExecuteTime": {
     "end_time": "2025-05-13T18:57:04.953849Z",
     "start_time": "2025-05-13T18:57:04.915651Z"
    }
   },
   "cell_type": "code",
   "source": [
    "def evaluate_model(name, labels):\n",
    "    silhouette = silhouette_score(scaled_df, labels)\n",
    "    db_index = davies_bouldin_score(scaled_df, labels)\n",
    "    print(f\"{name}: Silhouette Score = {silhouette:.4f}, Davies-Bouldin Index = {db_index:.4f}\")\n",
    "\n",
    "evaluate_model(\"K-Means\", kmeans_labels)\n",
    "evaluate_model(\"Agglomerative\", agg_labels)\n",
    "evaluate_model(\"GMM\", gmm_labels)\n",
    "evaluate_model(\"BIRCH\", birch_labels)"
   ],
   "id": "7db35f46452d517f",
   "execution_count": 10,
   "outputs": []
  },
  {
   "metadata": {},
   "cell_type": "markdown",
   "source": "The clustering results show that K-Means performed the best among the four methods, achieving the highest Silhouette Score (0.4166) and lowest Davies-Bouldin Index (0.8746), indicating well-separated and compact clusters. GMM followed closely with a Silhouette Score of 0.4064 and Davies-Bouldin Index of 0.9356, suggesting decent but slightly overlapping clusters. Agglomerative Clustering showed moderate performance with a Silhouette Score of 0.3900 and Davies-Bouldin Index of 0.9163, while BIRCH performed the worst, with a Silhouette Score of 0.3231 and a high Davies-Bouldin Index of 1.1507, reflecting less distinct clustering. Overall, K-Means provided the most effective customer segmentation for this dataset.\n",
   "id": "fe09a14b44eddc77"
  },
  {
   "metadata": {},
   "cell_type": "markdown",
   "source": [
    "\n",
    "\n",
    "The clustering identified five distinct customer groups with unique characteristics: The first group consists of young customers with high spending scores and moderate to high income, making them ideal targets for trend-focused marketing, loyalty programs, and exclusive offers. The second group includes older or budget-conscious shoppers who have lower income and spending levels, responding best to discounts, value bundles, and senior-focused promotions. The third cluster represents middle-aged customers with average income and moderate spending habits, forming the stable core of the customer base suitable for general marketing and upselling strategies. The fourth group comprises high-income but low-spending individuals who tend to be selective buyers, making personalized premium services and luxury branding effective engagement tools. Finally, the fifth cluster contains balanced customers with average income and spending patterns; they are loyal but less active, benefiting from broad marketing campaigns and retention incentives. Together, these insights enable businesses to tailor their marketing efforts and better meet the needs of each customer segment.\n"
   ],
   "id": "43057faefba8dd65"
  }
 ],
 "metadata": {
  "kernelspec": {
   "display_name": "Python 3",
   "language": "python",
   "name": "python3"
  },
  "language_info": {
   "codemirror_mode": {
    "name": "ipython",
    "version": 2
   },
   "file_extension": ".py",
   "mimetype": "text/x-python",
   "name": "python",
   "nbconvert_exporter": "python",
   "pygments_lexer": "ipython2",
   "version": "2.7.6"
  }
 },
 "nbformat": 4,
 "nbformat_minor": 5
}
