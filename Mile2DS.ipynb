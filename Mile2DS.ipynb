{
 "cells": [
  {
   "cell_type": "code",
   "id": "initial_id",
   "metadata": {
    "collapsed": true,
    "ExecuteTime": {
     "end_time": "2025-06-01T19:23:28.322273Z",
     "start_time": "2025-06-01T19:23:14.511479Z"
    }
   },
   "source": [
    "import pandas as pd  # For data manipulation and analysis\n",
    "import numpy as np  # For numerical operations\n",
    "from sklearn.model_selection import train_test_split  # For splitting data into train and test sets\n",
    "from sklearn.preprocessing import LabelEncoder  # For encoding categorical variables\n",
    "from sklearn.neighbors import KNeighborsClassifier  # K-Nearest Neighbors classifier\n",
    "from sklearn.naive_bayes import GaussianNB  # Naive Bayes classifier\n",
    "from sklearn.tree import DecisionTreeClassifier  # Decision Tree classifier\n",
    "from sklearn.ensemble import RandomForestClassifier  # Random Forest classifier\n",
    "from sklearn.metrics import accuracy_score, confusion_matrix, precision_score, recall_score  # Evaluation metrics\n",
    "import warnings  # To suppress warnings\n",
    "\n",
    "warnings.filterwarnings('ignore')\n"
   ],
   "outputs": [],
   "execution_count": 1
  },
  {
   "metadata": {},
   "cell_type": "markdown",
   "source": "# Load dataset",
   "id": "b4dfa47625a31c18"
  },
  {
   "metadata": {
    "ExecuteTime": {
     "end_time": "2025-06-01T19:23:37.307587Z",
     "start_time": "2025-06-01T19:23:37.263501Z"
    }
   },
   "cell_type": "code",
   "source": "df = pd.read_csv(\"loan_approval_dataset.csv\")",
   "id": "7cb13ea01a6155fa",
   "outputs": [],
   "execution_count": 2
  },
  {
   "metadata": {},
   "cell_type": "markdown",
   "source": "# Clean column names by removing leading/trailing spaces",
   "id": "45afdc17df73f571"
  },
  {
   "metadata": {
    "ExecuteTime": {
     "end_time": "2025-06-01T19:23:38.321622Z",
     "start_time": "2025-06-01T19:23:38.315636Z"
    }
   },
   "cell_type": "code",
   "source": "df.columns = df.columns.str.strip()",
   "id": "583082067fc6f07c",
   "outputs": [],
   "execution_count": 3
  },
  {
   "metadata": {},
   "cell_type": "markdown",
   "source": "# Show actual column names",
   "id": "b0cda37b3c19eac3"
  },
  {
   "metadata": {
    "ExecuteTime": {
     "end_time": "2025-06-01T19:23:39.320308Z",
     "start_time": "2025-06-01T19:23:39.312516Z"
    }
   },
   "cell_type": "code",
   "source": "print(\"Actual columns:\", df.columns.tolist())",
   "id": "3cc861d3424e5adb",
   "outputs": [
    {
     "name": "stdout",
     "output_type": "stream",
     "text": [
      "Actual columns: ['Applicant_ID', 'Age', 'Income', 'Credit_Score', 'Loan_Amount', 'Loan_Term', 'Interest_Rate', 'Employment_Status', 'Debt_to_Income_Ratio', 'Marital_Status', 'Number_of_Dependents', 'Property_Ownership', 'Loan_Purpose', 'Previous_Defaults']\n"
     ]
    }
   ],
   "execution_count": 4
  },
  {
   "metadata": {},
   "cell_type": "markdown",
   "source": "# Display basic info",
   "id": "af019afa13c7d0d2"
  },
  {
   "metadata": {
    "ExecuteTime": {
     "end_time": "2025-06-01T19:23:41.437611Z",
     "start_time": "2025-06-01T19:23:41.416944Z"
    }
   },
   "cell_type": "code",
   "source": [
    "print(\"Dataset Shape:\", df.shape)\n",
    "df.head()"
   ],
   "id": "d62f56b64bba2972",
   "outputs": [
    {
     "name": "stdout",
     "output_type": "stream",
     "text": [
      "Dataset Shape: (5000, 14)\n"
     ]
    },
    {
     "data": {
      "text/plain": [
       "   Applicant_ID  Age  Income  Credit_Score  Loan_Amount  Loan_Term  \\\n",
       "0             1   56   21920           639       452748         72   \n",
       "1             2   69  126121           655       257134         60   \n",
       "2             3   46   96872           467       226437         72   \n",
       "3             4   32  101132           751       310480         12   \n",
       "4             5   60   22093           404        13070         12   \n",
       "\n",
       "   Interest_Rate Employment_Status  Debt_to_Income_Ratio Marital_Status  \\\n",
       "0           4.53        Unemployed                 43.35        Married   \n",
       "1           5.38        Unemployed                 10.42       Divorced   \n",
       "2           3.46     Self-Employed                 45.39       Divorced   \n",
       "3          14.00        Unemployed                  8.58         Single   \n",
       "4           9.13     Self-Employed                 20.70       Divorced   \n",
       "\n",
       "   Number_of_Dependents Property_Ownership Loan_Purpose  Previous_Defaults  \n",
       "0                     2           Mortgage     Business                  0  \n",
       "1                     0           Mortgage    Education                  0  \n",
       "2                     4           Mortgage          Car                  0  \n",
       "3                     2           Mortgage     Business                  0  \n",
       "4                     1           Mortgage         Home                  0  "
      ],
      "text/html": [
       "<div>\n",
       "<style scoped>\n",
       "    .dataframe tbody tr th:only-of-type {\n",
       "        vertical-align: middle;\n",
       "    }\n",
       "\n",
       "    .dataframe tbody tr th {\n",
       "        vertical-align: top;\n",
       "    }\n",
       "\n",
       "    .dataframe thead th {\n",
       "        text-align: right;\n",
       "    }\n",
       "</style>\n",
       "<table border=\"1\" class=\"dataframe\">\n",
       "  <thead>\n",
       "    <tr style=\"text-align: right;\">\n",
       "      <th></th>\n",
       "      <th>Applicant_ID</th>\n",
       "      <th>Age</th>\n",
       "      <th>Income</th>\n",
       "      <th>Credit_Score</th>\n",
       "      <th>Loan_Amount</th>\n",
       "      <th>Loan_Term</th>\n",
       "      <th>Interest_Rate</th>\n",
       "      <th>Employment_Status</th>\n",
       "      <th>Debt_to_Income_Ratio</th>\n",
       "      <th>Marital_Status</th>\n",
       "      <th>Number_of_Dependents</th>\n",
       "      <th>Property_Ownership</th>\n",
       "      <th>Loan_Purpose</th>\n",
       "      <th>Previous_Defaults</th>\n",
       "    </tr>\n",
       "  </thead>\n",
       "  <tbody>\n",
       "    <tr>\n",
       "      <th>0</th>\n",
       "      <td>1</td>\n",
       "      <td>56</td>\n",
       "      <td>21920</td>\n",
       "      <td>639</td>\n",
       "      <td>452748</td>\n",
       "      <td>72</td>\n",
       "      <td>4.53</td>\n",
       "      <td>Unemployed</td>\n",
       "      <td>43.35</td>\n",
       "      <td>Married</td>\n",
       "      <td>2</td>\n",
       "      <td>Mortgage</td>\n",
       "      <td>Business</td>\n",
       "      <td>0</td>\n",
       "    </tr>\n",
       "    <tr>\n",
       "      <th>1</th>\n",
       "      <td>2</td>\n",
       "      <td>69</td>\n",
       "      <td>126121</td>\n",
       "      <td>655</td>\n",
       "      <td>257134</td>\n",
       "      <td>60</td>\n",
       "      <td>5.38</td>\n",
       "      <td>Unemployed</td>\n",
       "      <td>10.42</td>\n",
       "      <td>Divorced</td>\n",
       "      <td>0</td>\n",
       "      <td>Mortgage</td>\n",
       "      <td>Education</td>\n",
       "      <td>0</td>\n",
       "    </tr>\n",
       "    <tr>\n",
       "      <th>2</th>\n",
       "      <td>3</td>\n",
       "      <td>46</td>\n",
       "      <td>96872</td>\n",
       "      <td>467</td>\n",
       "      <td>226437</td>\n",
       "      <td>72</td>\n",
       "      <td>3.46</td>\n",
       "      <td>Self-Employed</td>\n",
       "      <td>45.39</td>\n",
       "      <td>Divorced</td>\n",
       "      <td>4</td>\n",
       "      <td>Mortgage</td>\n",
       "      <td>Car</td>\n",
       "      <td>0</td>\n",
       "    </tr>\n",
       "    <tr>\n",
       "      <th>3</th>\n",
       "      <td>4</td>\n",
       "      <td>32</td>\n",
       "      <td>101132</td>\n",
       "      <td>751</td>\n",
       "      <td>310480</td>\n",
       "      <td>12</td>\n",
       "      <td>14.00</td>\n",
       "      <td>Unemployed</td>\n",
       "      <td>8.58</td>\n",
       "      <td>Single</td>\n",
       "      <td>2</td>\n",
       "      <td>Mortgage</td>\n",
       "      <td>Business</td>\n",
       "      <td>0</td>\n",
       "    </tr>\n",
       "    <tr>\n",
       "      <th>4</th>\n",
       "      <td>5</td>\n",
       "      <td>60</td>\n",
       "      <td>22093</td>\n",
       "      <td>404</td>\n",
       "      <td>13070</td>\n",
       "      <td>12</td>\n",
       "      <td>9.13</td>\n",
       "      <td>Self-Employed</td>\n",
       "      <td>20.70</td>\n",
       "      <td>Divorced</td>\n",
       "      <td>1</td>\n",
       "      <td>Mortgage</td>\n",
       "      <td>Home</td>\n",
       "      <td>0</td>\n",
       "    </tr>\n",
       "  </tbody>\n",
       "</table>\n",
       "</div>"
      ]
     },
     "execution_count": 5,
     "metadata": {},
     "output_type": "execute_result"
    }
   ],
   "execution_count": 5
  },
  {
   "metadata": {},
   "cell_type": "markdown",
   "source": "# Fill missing values using forward fill",
   "id": "8efa53068240e3f8"
  },
  {
   "metadata": {
    "ExecuteTime": {
     "end_time": "2025-06-01T19:23:43.424732Z",
     "start_time": "2025-06-01T19:23:43.413868Z"
    }
   },
   "cell_type": "code",
   "source": "df.fillna(method='ffill', inplace=True)",
   "id": "8514dfc7713f6583",
   "outputs": [],
   "execution_count": 6
  },
  {
   "metadata": {},
   "cell_type": "markdown",
   "source": "# Encode Categorical Variables",
   "id": "396b70bbdb783fb8"
  },
  {
   "metadata": {
    "ExecuteTime": {
     "end_time": "2025-06-01T19:23:44.477185Z",
     "start_time": "2025-06-01T19:23:44.455690Z"
    }
   },
   "cell_type": "code",
   "source": [
    "label_enc = LabelEncoder()\n",
    "for col in df.columns:\n",
    "    if df[col].dtype == 'object':\n",
    "        df[col] = label_enc.fit_transform(df[col])"
   ],
   "id": "93bb046a69f33444",
   "outputs": [],
   "execution_count": 7
  },
  {
   "metadata": {},
   "cell_type": "markdown",
   "source": "# Feature and Target Separation",
   "id": "22f982433620fe1b"
  },
  {
   "metadata": {
    "ExecuteTime": {
     "end_time": "2025-06-01T19:23:45.570732Z",
     "start_time": "2025-06-01T19:23:45.553582Z"
    }
   },
   "cell_type": "code",
   "source": [
    "X = df.drop('Previous_Defaults', axis=1)\n",
    "y = df['Previous_Defaults']"
   ],
   "id": "e9af61c786079c36",
   "outputs": [],
   "execution_count": 8
  },
  {
   "metadata": {},
   "cell_type": "markdown",
   "source": "# Train-Test Split",
   "id": "a6ac6c836ea52daf"
  },
  {
   "metadata": {
    "ExecuteTime": {
     "end_time": "2025-06-01T19:23:48.787416Z",
     "start_time": "2025-06-01T19:23:48.775899Z"
    }
   },
   "cell_type": "code",
   "source": "X_train, X_test, y_train, y_test = train_test_split(X, y, test_size=0.2, random_state=42)",
   "id": "6503ac52c4e15588",
   "outputs": [],
   "execution_count": 9
  },
  {
   "metadata": {},
   "cell_type": "markdown",
   "source": "# Define Model Evaluation Function",
   "id": "337615ffb5202fb8"
  },
  {
   "metadata": {
    "ExecuteTime": {
     "end_time": "2025-06-01T19:23:50.065636Z",
     "start_time": "2025-06-01T19:23:50.053125Z"
    }
   },
   "cell_type": "code",
   "source": [
    "def evaluate_model(model, model_name):\n",
    "    model.fit(X_train, y_train)\n",
    "    y_pred = model.predict(X_test)\n",
    "    acc = accuracy_score(y_test, y_pred)\n",
    "    prec = precision_score(y_test, y_pred)\n",
    "    rec = recall_score(y_test, y_pred)\n",
    "    cm = confusion_matrix(y_test, y_pred)\n",
    "\n",
    "    print(f\"\\nModel: {model_name}\")\n",
    "    print(\"Accuracy:\", acc)\n",
    "    print(\"Precision:\", prec)\n",
    "    print(\"Recall:\", rec)\n",
    "    print(\"Confusion Matrix:\\n\", cm)\n",
    "\n",
    "    return [model_name, acc, prec, rec]"
   ],
   "id": "fca33dadafdc1d59",
   "outputs": [],
   "execution_count": 10
  },
  {
   "metadata": {},
   "cell_type": "markdown",
   "source": "# Initialize and Evaluate Models",
   "id": "b0750db84e569bd1"
  },
  {
   "metadata": {
    "ExecuteTime": {
     "end_time": "2025-06-01T19:23:51.900568Z",
     "start_time": "2025-06-01T19:23:51.886042Z"
    }
   },
   "cell_type": "code",
   "source": [
    "# Initialize models\n",
    "knn = KNeighborsClassifier(n_neighbors=5)\n",
    "nb = GaussianNB()\n",
    "dt = DecisionTreeClassifier()\n",
    "rf = RandomForestClassifier()"
   ],
   "id": "4f6fa73940e44604",
   "outputs": [],
   "execution_count": 11
  },
  {
   "metadata": {
    "ExecuteTime": {
     "end_time": "2025-06-01T19:23:53.484183Z",
     "start_time": "2025-06-01T19:23:52.500909Z"
    }
   },
   "cell_type": "code",
   "source": [
    "# Evaluate each model\n",
    "results = []\n",
    "results.append(evaluate_model(knn, \"K-Nearest Neighbors\"))\n",
    "results.append(evaluate_model(nb, \"Naive Bayes\"))\n",
    "results.append(evaluate_model(dt, \"Decision Tree\"))\n",
    "results.append(evaluate_model(rf, \"Random Forest\"))"
   ],
   "id": "83d38871d667f0ec",
   "outputs": [
    {
     "name": "stdout",
     "output_type": "stream",
     "text": [
      "\n",
      "Model: K-Nearest Neighbors\n",
      "Accuracy: 0.903\n",
      "Precision: 0.16666666666666666\n",
      "Recall: 0.010752688172043012\n",
      "Confusion Matrix:\n",
      " [[902   5]\n",
      " [ 92   1]]\n",
      "\n",
      "Model: Naive Bayes\n",
      "Accuracy: 0.907\n",
      "Precision: 0.0\n",
      "Recall: 0.0\n",
      "Confusion Matrix:\n",
      " [[907   0]\n",
      " [ 93   0]]\n",
      "\n",
      "Model: Decision Tree\n",
      "Accuracy: 0.816\n",
      "Precision: 0.13008130081300814\n",
      "Recall: 0.17204301075268819\n",
      "Confusion Matrix:\n",
      " [[800 107]\n",
      " [ 77  16]]\n",
      "\n",
      "Model: Random Forest\n",
      "Accuracy: 0.907\n",
      "Precision: 0.0\n",
      "Recall: 0.0\n",
      "Confusion Matrix:\n",
      " [[907   0]\n",
      " [ 93   0]]\n"
     ]
    }
   ],
   "execution_count": 12
  },
  {
   "metadata": {},
   "cell_type": "markdown",
   "source": "# Compare Models",
   "id": "3fb2b9b5dfa23cae"
  },
  {
   "metadata": {
    "ExecuteTime": {
     "end_time": "2025-06-01T19:23:57.213684Z",
     "start_time": "2025-06-01T19:23:57.185515Z"
    }
   },
   "cell_type": "code",
   "source": [
    "comparison_df = pd.DataFrame(results, columns=['Model', 'Accuracy', 'Precision', 'Recall'])\n",
    "print(\"\\n--- Model Comparison ---\")\n",
    "comparison_df"
   ],
   "id": "fb80dcad76cfbf86",
   "outputs": [
    {
     "name": "stdout",
     "output_type": "stream",
     "text": [
      "\n",
      "--- Model Comparison ---\n"
     ]
    },
    {
     "data": {
      "text/plain": [
       "                 Model  Accuracy  Precision    Recall\n",
       "0  K-Nearest Neighbors     0.903   0.166667  0.010753\n",
       "1          Naive Bayes     0.907   0.000000  0.000000\n",
       "2        Decision Tree     0.816   0.130081  0.172043\n",
       "3        Random Forest     0.907   0.000000  0.000000"
      ],
      "text/html": [
       "<div>\n",
       "<style scoped>\n",
       "    .dataframe tbody tr th:only-of-type {\n",
       "        vertical-align: middle;\n",
       "    }\n",
       "\n",
       "    .dataframe tbody tr th {\n",
       "        vertical-align: top;\n",
       "    }\n",
       "\n",
       "    .dataframe thead th {\n",
       "        text-align: right;\n",
       "    }\n",
       "</style>\n",
       "<table border=\"1\" class=\"dataframe\">\n",
       "  <thead>\n",
       "    <tr style=\"text-align: right;\">\n",
       "      <th></th>\n",
       "      <th>Model</th>\n",
       "      <th>Accuracy</th>\n",
       "      <th>Precision</th>\n",
       "      <th>Recall</th>\n",
       "    </tr>\n",
       "  </thead>\n",
       "  <tbody>\n",
       "    <tr>\n",
       "      <th>0</th>\n",
       "      <td>K-Nearest Neighbors</td>\n",
       "      <td>0.903</td>\n",
       "      <td>0.166667</td>\n",
       "      <td>0.010753</td>\n",
       "    </tr>\n",
       "    <tr>\n",
       "      <th>1</th>\n",
       "      <td>Naive Bayes</td>\n",
       "      <td>0.907</td>\n",
       "      <td>0.000000</td>\n",
       "      <td>0.000000</td>\n",
       "    </tr>\n",
       "    <tr>\n",
       "      <th>2</th>\n",
       "      <td>Decision Tree</td>\n",
       "      <td>0.816</td>\n",
       "      <td>0.130081</td>\n",
       "      <td>0.172043</td>\n",
       "    </tr>\n",
       "    <tr>\n",
       "      <th>3</th>\n",
       "      <td>Random Forest</td>\n",
       "      <td>0.907</td>\n",
       "      <td>0.000000</td>\n",
       "      <td>0.000000</td>\n",
       "    </tr>\n",
       "  </tbody>\n",
       "</table>\n",
       "</div>"
      ]
     },
     "execution_count": 13,
     "metadata": {},
     "output_type": "execute_result"
    }
   ],
   "execution_count": 13
  },
  {
   "metadata": {},
   "cell_type": "markdown",
   "source": "# Bonus",
   "id": "bcafdb55d1bf0370"
  },
  {
   "metadata": {
    "ExecuteTime": {
     "end_time": "2025-06-01T19:25:11.234690Z",
     "start_time": "2025-06-01T19:23:59.471743Z"
    }
   },
   "cell_type": "code",
   "source": [
    "from sklearn.preprocessing import StandardScaler\n",
    "from tensorflow.keras.models import Sequential\n",
    "from tensorflow.keras.layers import Dense\n",
    "from tensorflow.keras.optimizers import Adam\n",
    "\n",
    "# Scale features\n",
    "scaler = StandardScaler()\n",
    "X_scaled = scaler.fit_transform(X)\n",
    "X_train_dl, X_test_dl, y_train_dl, y_test_dl = train_test_split(X_scaled, y, test_size=0.2, random_state=42)\n",
    "\n",
    "# Build neural network model\n",
    "dl_model = Sequential()\n",
    "dl_model.add(Dense(64, input_dim=X_train_dl.shape[1], activation='relu'))\n",
    "dl_model.add(Dense(32, activation='relu'))\n",
    "dl_model.add(Dense(1, activation='sigmoid'))\n",
    "dl_model.compile(optimizer=Adam(learning_rate=0.001), loss='binary_crossentropy', metrics=['accuracy'])\n",
    "\n",
    "# Train the model\n",
    "dl_model.fit(X_train_dl, y_train_dl, epochs=50, batch_size=16, verbose=0)\n",
    "\n",
    "# Evaluate the model\n",
    "y_pred_dl = (dl_model.predict(X_test_dl) > 0.5).astype(\"int32\").flatten()\n",
    "\n",
    "acc_dl = accuracy_score(y_test_dl, y_pred_dl)\n",
    "prec_dl = precision_score(y_test_dl, y_pred_dl)\n",
    "rec_dl = recall_score(y_test_dl, y_pred_dl)\n",
    "cm_dl = confusion_matrix(y_test_dl, y_pred_dl)\n",
    "\n",
    "print(\"\\nModel: Deep Learning (Neural Network)\")\n",
    "print(\"Accuracy:\", acc_dl)\n",
    "print(\"Precision:\", prec_dl)\n",
    "print(\"Recall:\", rec_dl)\n",
    "print(\"Confusion Matrix:\\n\", cm_dl)\n",
    "\n",
    "results.append([\"Deep Learning\", acc_dl, prec_dl, rec_dl])\n"
   ],
   "id": "17326f4cc76bc727",
   "outputs": [
    {
     "name": "stdout",
     "output_type": "stream",
     "text": [
      "\u001B[1m32/32\u001B[0m \u001B[32m━━━━━━━━━━━━━━━━━━━━\u001B[0m\u001B[37m\u001B[0m \u001B[1m0s\u001B[0m 2ms/step \n",
      "\n",
      "Model: Deep Learning (Neural Network)\n",
      "Accuracy: 0.884\n",
      "Precision: 0.17142857142857143\n",
      "Recall: 0.06451612903225806\n",
      "Confusion Matrix:\n",
      " [[878  29]\n",
      " [ 87   6]]\n"
     ]
    }
   ],
   "execution_count": 14
  },
  {
   "metadata": {},
   "cell_type": "markdown",
   "source": "# Save Results to CSV",
   "id": "6b3e7901fddc786a"
  },
  {
   "metadata": {
    "ExecuteTime": {
     "end_time": "2025-06-01T19:25:18.998079Z",
     "start_time": "2025-06-01T19:25:18.982667Z"
    }
   },
   "cell_type": "code",
   "source": "comparison_df.to_csv(\"model_comparison_results.csv\", index=False)",
   "id": "d69f158f47f71739",
   "outputs": [],
   "execution_count": 15
  },
  {
   "metadata": {},
   "cell_type": "code",
   "outputs": [],
   "execution_count": null,
   "source": "",
   "id": "499a0597ba7c3989"
  }
 ],
 "metadata": {
  "kernelspec": {
   "display_name": "Python 3",
   "language": "python",
   "name": "python3"
  },
  "language_info": {
   "codemirror_mode": {
    "name": "ipython",
    "version": 2
   },
   "file_extension": ".py",
   "mimetype": "text/x-python",
   "name": "python",
   "nbconvert_exporter": "python",
   "pygments_lexer": "ipython2",
   "version": "2.7.6"
  }
 },
 "nbformat": 4,
 "nbformat_minor": 5
}
